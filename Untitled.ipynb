{
 "cells": [
  {
   "cell_type": "markdown",
   "id": "a533ab73",
   "metadata": {},
   "source": [
    "# Task\n",
    "\n",
    "Your task is to use your data science skills to help the Kiva crowdfunding organization process and analyze their internal API data on customer sales. They want you to do 2 things for them. \n",
    "1) Convert their internal API results into a MySQL Database and \n",
    "2) formally answer the following question using hypothesis testing: \n",
    "\n",
    "“Is there is a significant difference between the funded amount when it is all males and when there is at least one female in the group?“\n",
    "\n",
    "They have provided you with a .json file that can be found [here](https://drive.google.com/file/d/1zyVYMuS8GsgoZhWQpBp-5ijlzS3FknKE/view?usp=sharing). "
   ]
  },
  {
   "cell_type": "markdown",
   "id": "70146660",
   "metadata": {},
   "source": [
    "## ETL of json file"
   ]
  },
  {
   "cell_type": "code",
   "execution_count": 3,
   "id": "973b21d8",
   "metadata": {},
   "outputs": [],
   "source": [
    "import json\n",
    "import pandas as pd\n",
    "import numpy as np\n",
    "import seaborn as sns\n",
    "from scipy import stats\n",
    "import pymysql\n",
    "pymysql.install_as_MySQLdb()\n",
    "from sqlalchemy import create_engine\n",
    "from sqlalchemy_utils import create_database, database_exists"
   ]
  },
  {
   "cell_type": "markdown",
   "id": "7fa7574f",
   "metadata": {},
   "source": [
    "### Extract"
   ]
  },
  {
   "cell_type": "code",
   "execution_count": 4,
   "id": "d1d04912",
   "metadata": {},
   "outputs": [
    {
     "data": {
      "text/plain": [
       "dict_keys(['meta', 'data'])"
      ]
     },
     "execution_count": 4,
     "metadata": {},
     "output_type": "execute_result"
    }
   ],
   "source": [
    "with open('Mock_Crowdsourcing_API_Results.json') as f:\n",
    "    results=json.load(f)\n",
    "results.keys()"
   ]
  },
  {
   "cell_type": "code",
   "execution_count": 8,
   "id": "0111a136",
   "metadata": {},
   "outputs": [
    {
     "name": "stdout",
     "output_type": "stream",
     "text": [
      "<class 'str'>\n"
     ]
    },
    {
     "data": {
      "text/plain": [
       "dict"
      ]
     },
     "execution_count": 8,
     "metadata": {},
     "output_type": "execute_result"
    }
   ],
   "source": [
    "#explore keys and  value\n",
    "print(type(results['meta']))\n",
    "type(results['data'])"
   ]
  },
  {
   "cell_type": "markdown",
   "id": "929af99e",
   "metadata": {},
   "source": [
    "### Transform"
   ]
  },
  {
   "cell_type": "markdown",
   "id": "556bfa32",
   "metadata": {},
   "source": [
    "### Load"
   ]
  }
 ],
 "metadata": {
  "kernelspec": {
   "display_name": "Python (dojo-env)",
   "language": "python",
   "name": "dojo-env"
  },
  "language_info": {
   "codemirror_mode": {
    "name": "ipython",
    "version": 3
   },
   "file_extension": ".py",
   "mimetype": "text/x-python",
   "name": "python",
   "nbconvert_exporter": "python",
   "pygments_lexer": "ipython3",
   "version": "3.9.15"
  },
  "toc": {
   "base_numbering": 1,
   "nav_menu": {},
   "number_sections": false,
   "sideBar": true,
   "skip_h1_title": false,
   "title_cell": "Table of Contents",
   "title_sidebar": "Contents",
   "toc_cell": false,
   "toc_position": {},
   "toc_section_display": true,
   "toc_window_display": false
  }
 },
 "nbformat": 4,
 "nbformat_minor": 5
}
